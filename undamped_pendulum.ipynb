{
 "cells": [
  {
   "cell_type": "markdown",
   "metadata": {},
   "source": [
    "# Undamped Pendulum Phase Portrait\n",
    "\n",
    "The function of a damped pendulum $\\theta^{\\prime\\prime}(t) = -b\\theta^{\\prime}(t) - \\frac{mg}{L}\\sin(\\theta(t)) $\n",
    "\n",
    "Where derivative of $\\theta$ is $\\theta^{\\prime}$"
   ]
  },
  {
   "cell_type": "code",
   "execution_count": 1,
   "metadata": {},
   "outputs": [],
   "source": [
    "#Imports\n",
    "\n",
    "import numpy as np\n",
    "import matplotlib.pyplot as plt"
   ]
  },
  {
   "cell_type": "code",
   "execution_count": 2,
   "metadata": {},
   "outputs": [],
   "source": [
    "def compute_derivative_vector(Theta, b):\n",
    "    theta, d_theta = Theta\n",
    "    return [d_theta, - b*d_theta - ((9.81*1)/1)* np.sin(theta)]"
   ]
  },
  {
   "cell_type": "code",
   "execution_count": 6,
   "metadata": {},
   "outputs": [],
   "source": [
    "d_theta = np.linspace(-5, 5, 20)\n",
    "theta = np.linspace(-5, 5, 20)\n",
    "\n",
    "\n",
    "THETA1, THETA2 = np.meshgrid(theta, d_theta)"
   ]
  },
  {
   "cell_type": "code",
   "execution_count": 9,
   "metadata": {},
   "outputs": [
    {
     "data": {
      "image/png": "[encoded data removed]",
      "text/plain": [
       "<Figure size 432x288 with 1 Axes>"
      ]
     },
     "metadata": {},
     "output_type": "display_data"
    }
   ],
   "source": [
    "plt.scatter(THETA1, THETA2)\n",
    "plt.xlabel('$\\theta$')\n",
    "\n",
    "plt.show()"
   ]
  },
  {
   "cell_type": "code",
   "execution_count": null,
   "metadata": {},
   "outputs": [],
   "source": []
  }
 ],
 "metadata": {
  "kernelspec": {
   "display_name": "Python 3",
   "language": "python",
   "name": "python3"
  },
  "language_info": {
   "codemirror_mode": {
    "name": "ipython",
    "version": 3
   },
   "file_extension": ".py",
   "mimetype": "text/x-python",
   "name": "python",
   "nbconvert_exporter": "python",
   "pygments_lexer": "ipython3",
   "version": "3.7.0"
  }
 },
 "nbformat": 4,
 "nbformat_minor": 2
}
