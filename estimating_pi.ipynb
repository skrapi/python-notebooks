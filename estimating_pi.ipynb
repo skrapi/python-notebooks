{
 "cells": [
  {
   "cell_type": "markdown",
   "metadata": {},
   "source": [
    "# Estimation of Pi"
   ]
  },
  {
   "cell_type": "markdown",
   "metadata": {},
   "source": [
    "Let's use the assumption of a quarter (1/4 circle) First we need a few tools"
   ]
  },
  {
   "cell_type": "code",
   "execution_count": 3,
   "metadata": {},
   "outputs": [],
   "source": [
    "import numpy as np\n",
    "import matplotlib.pyplot as plt\n",
    "import matplotlib.animation as animation\n",
    "import os\n",
    "plt.rcParams['animation.ffmpeg_path'] = os.getcwd() + r'\\ffmpeg.exe'\n",
    "import pandas as pd\n",
    "import sys"
   ]
  },
  {
   "cell_type": "markdown",
   "metadata": {},
   "source": [
    "Create xy points at random"
   ]
  },
  {
   "cell_type": "code",
   "execution_count": 4,
   "metadata": {},
   "outputs": [],
   "source": [
    "num_of_samples = 1000000\n",
    "\n",
    "x = np.random.uniform(0,1,num_of_samples)\n",
    "y = np.random.uniform(0,1,num_of_samples)"
   ]
  },
  {
   "cell_type": "markdown",
   "metadata": {},
   "source": [
    "Now lets calculate the distance from the center of the circle"
   ]
  },
  {
   "cell_type": "code",
   "execution_count": 5,
   "metadata": {},
   "outputs": [],
   "source": [
    "z = np.sqrt(x**2 + y**2)\n",
    "z_in_circle = z <= 1\n",
    "pi = np.zeros(num_of_samples)"
   ]
  },
  {
   "cell_type": "markdown",
   "metadata": {},
   "source": [
    "See the relative size of each"
   ]
  },
  {
   "cell_type": "code",
   "execution_count": 6,
   "metadata": {},
   "outputs": [
    {
     "data": {
      "text/html": [
       "<div>\n",
       "<style scoped>\n",
       "    .dataframe tbody tr th:only-of-type {\n",
       "        vertical-align: middle;\n",
       "    }\n",
       "\n",
       "    .dataframe tbody tr th {\n",
       "        vertical-align: top;\n",
       "    }\n",
       "\n",
       "    .dataframe thead th {\n",
       "        text-align: right;\n",
       "    }\n",
       "</style>\n",
       "<table border=\"1\" class=\"dataframe\">\n",
       "  <thead>\n",
       "    <tr style=\"text-align: right;\">\n",
       "      <th></th>\n",
       "      <th>x</th>\n",
       "      <th>y</th>\n",
       "      <th>z</th>\n",
       "      <th>inside</th>\n",
       "    </tr>\n",
       "  </thead>\n",
       "  <tbody>\n",
       "    <tr>\n",
       "      <th>0</th>\n",
       "      <td>0.108630</td>\n",
       "      <td>0.382978</td>\n",
       "      <td>0.398087</td>\n",
       "      <td>True</td>\n",
       "    </tr>\n",
       "    <tr>\n",
       "      <th>1</th>\n",
       "      <td>0.123820</td>\n",
       "      <td>0.327036</td>\n",
       "      <td>0.349691</td>\n",
       "      <td>True</td>\n",
       "    </tr>\n",
       "    <tr>\n",
       "      <th>2</th>\n",
       "      <td>0.365935</td>\n",
       "      <td>0.150116</td>\n",
       "      <td>0.395529</td>\n",
       "      <td>True</td>\n",
       "    </tr>\n",
       "    <tr>\n",
       "      <th>3</th>\n",
       "      <td>0.617101</td>\n",
       "      <td>0.621304</td>\n",
       "      <td>0.875689</td>\n",
       "      <td>True</td>\n",
       "    </tr>\n",
       "    <tr>\n",
       "      <th>4</th>\n",
       "      <td>0.225586</td>\n",
       "      <td>0.360733</td>\n",
       "      <td>0.425461</td>\n",
       "      <td>True</td>\n",
       "    </tr>\n",
       "  </tbody>\n",
       "</table>\n",
       "</div>"
      ],
      "text/plain": [
       "          x         y         z  inside\n",
       "0  0.108630  0.382978  0.398087    True\n",
       "1  0.123820  0.327036  0.349691    True\n",
       "2  0.365935  0.150116  0.395529    True\n",
       "3  0.617101  0.621304  0.875689    True\n",
       "4  0.225586  0.360733  0.425461    True"
      ]
     },
     "execution_count": 6,
     "metadata": {},
     "output_type": "execute_result"
    }
   ],
   "source": [
    "data = pd.DataFrame(data = {'x' : x, 'y' : y, 'z' : z, 'inside' : z_in_circle})\n",
    "data.head()"
   ]
  },
  {
   "cell_type": "markdown",
   "metadata": {},
   "source": [
    "# Plotting"
   ]
  },
  {
   "cell_type": "markdown",
   "metadata": {},
   "source": [
    "Progress Bar"
   ]
  },
  {
   "cell_type": "code",
   "execution_count": 7,
   "metadata": {},
   "outputs": [],
   "source": [
    "def update_progress(job_title, progress):\n",
    "    length = 40\n",
    "    progress = progress if progress <= 1 else 1\n",
    "    block = int(round(length*progress))\n",
    "    \n",
    "    msg = '\\r{0}: [{1}] {2}%'.format(job_title,\n",
    "                                     '#'*block + '-'*(length-block),\n",
    "                                     round(progress*100, 2))\n",
    "    \n",
    "    if progress >= 1:\n",
    "        msg += ' DONE\\r\\n'\n",
    "    \n",
    "    sys.stdout.write(msg)\n",
    "    sys.stdout.flush()"
   ]
  },
  {
   "cell_type": "code",
   "execution_count": 8,
   "metadata": {},
   "outputs": [],
   "source": [
    "# %matplotlib notebook\n",
    "writer = animation.FFMpegWriter(fps = 20, metadata = dict(artist = 'Me'), bitrate = 1800, extra_args='-stats')"
   ]
  },
  {
   "cell_type": "markdown",
   "metadata": {},
   "source": [
    "Init for animation function"
   ]
  },
  {
   "cell_type": "code",
   "execution_count": 9,
   "metadata": {},
   "outputs": [],
   "source": [
    "def init():\n",
    "    return [scatin, scatout]"
   ]
  },
  {
   "cell_type": "code",
   "execution_count": 10,
   "metadata": {},
   "outputs": [],
   "source": [
    "def animate(ii):\n",
    "    i = ii*100\n",
    "    scatin.set_offsets(np.array([x[data['inside']][0:i], y[data['inside']][0:i]]).transpose())\n",
    "    scatout.set_offsets(np.array([x[~data['inside']][0:i], y[~data['inside']][0:i]]).transpose())\n",
    "    pi = 4*np.sum(data['inside'][0:i]) / (i + 1)\n",
    "    plt.title('Estimating ' + str(pi), fontsize=20)  #4 * np.sum(z[z_in_circle][0:i]) / (i + 1)\n",
    "    \n",
    "    update_progress('Rendering...', (ii+1)/1000)\n",
    "    \n",
    "    return [scatin, scatout]"
   ]
  },
  {
   "cell_type": "code",
   "execution_count": null,
   "metadata": {},
   "outputs": [
    {
     "name": "stdout",
     "output_type": "stream",
     "text": [
      "Rendering...: [#####################-------------------] 53.3%"
     ]
    }
   ],
   "source": [
    "from IPython.display import display, HTML\n",
    "\n",
    "fig = plt.figure(figsize = (10,6))\n",
    "plt.xlim(0, 1)\n",
    "plt.ylim(0, 1)\n",
    "plt.xlabel('x', fontsize=20)\n",
    "plt.ylabel('y', fontsize=20)\n",
    "fig.set_size_inches((8, 8))\n",
    "\n",
    "scatout = plt.scatter([], [])\n",
    "scatin = plt.scatter([], [])\n",
    "\n",
    "ani = animation.FuncAnimation(fig, animate, init_func=init, frames=1000, interval=50)\n",
    "display(HTML(ani.to_html5_video()))\n",
    "plt.close(ani._fig)"
   ]
  },
  {
   "cell_type": "markdown",
   "metadata": {},
   "source": [
    "# Now estimate pi"
   ]
  },
  {
   "cell_type": "code",
   "execution_count": null,
   "metadata": {},
   "outputs": [],
   "source": [
    "pi = 4*np.sum(data['inside']) / (num_of_samples)\n",
    "pi"
   ]
  },
  {
   "cell_type": "code",
   "execution_count": null,
   "metadata": {},
   "outputs": [],
   "source": []
  }
 ],
 "metadata": {
  "kernelspec": {
   "display_name": "Python 3",
   "language": "python",
   "name": "python3"
  },
  "language_info": {
   "codemirror_mode": {
    "name": "ipython",
    "version": 3
   },
   "file_extension": ".py",
   "mimetype": "text/x-python",
   "name": "python",
   "nbconvert_exporter": "python",
   "pygments_lexer": "ipython3",
   "version": "3.7.0"
  }
 },
 "nbformat": 4,
 "nbformat_minor": 2
}
